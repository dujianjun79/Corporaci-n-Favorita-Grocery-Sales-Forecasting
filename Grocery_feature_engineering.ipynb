{
 "cells": [
  {
   "cell_type": "markdown",
   "metadata": {},
   "source": [
    "## Part II: feature engineering and preliminary models"
   ]
  },
  {
   "cell_type": "code",
   "execution_count": 1,
   "metadata": {},
   "outputs": [
    {
     "name": "stderr",
     "output_type": "stream",
     "text": [
      "C:\\Users\\Daniel\\Anaconda3\\lib\\site-packages\\sklearn\\cross_validation.py:44: DeprecationWarning: This module was deprecated in version 0.18 in favor of the model_selection module into which all the refactored classes and functions are moved. Also note that the interface of the new CV iterators are different from that of this module. This module will be removed in 0.20.\n",
      "  \"This module will be removed in 0.20.\", DeprecationWarning)\n"
     ]
    }
   ],
   "source": [
    "import  pandas as pd\n",
    "import numpy as np\n",
    "import xgboost as xgb\n",
    "from sklearn.model_selection import train_test_split\n",
    "from sklearn.ensemble import RandomForestRegressor\n",
    "from sklearn.svm import SVR\n",
    "from sklearn import cross_validation, metrics   \n",
    "from sklearn.grid_search import GridSearchCV   "
   ]
  },
  {
   "cell_type": "code",
   "execution_count": 2,
   "metadata": {
    "collapsed": true
   },
   "outputs": [],
   "source": [
    "data=pd.read_csv(\"store_1.csv\")\n",
    "stores=pd.read_csv(\"stores.csv\")\n",
    "holidays=pd.read_csv(\"holidays_events.csv\")\n",
    "\n",
    "# merge the holidays information to the dataset\n",
    "data=pd.merge(data,stores,on=\"store_nbr\")\n",
    "holidays=holidays[['date','locale_name']]\n",
    "df=pd.merge(data,holidays,how='left',left_on=['date','city'],right_on=['date','locale_name'])\n",
    "df['holidays']=np.where(df['locale_name'].isnull(),0,1)\n",
    "\n",
    "# extract the days from date column, and this will create a new feature, days_from\n",
    "hard_date = pd.to_datetime('20130101',format='%Y%m%d')\n",
    "df['days_from'] = pd.to_datetime(df['date'])-hard_date\n",
    "df['days_from']=df['days_from'].dt.days\n",
    "\n",
    "# year is converted the years since 2013; and this will also create a new feature\n",
    "df['year']=df['year']-2013\n",
    "\n",
    "# remove the columns which are not features for training\n",
    "df=df.drop(['Unnamed: 0','id','locale_name','store_nbr'],axis=1)\n",
    "\n",
    "# create the oil price feature\n",
    "oilprice=pd.read_csv(\"oil.csv\")\n",
    "df['date']=pd.to_datetime(df['date'])\n",
    "oilprice.dropna(inplace=True)\n",
    "oilprice['date']=pd.to_datetime(oilprice['date'])\n",
    "df=pd.merge(df,oilprice,how='left',left_on='date',right_on='date')\n",
    "df.dcoilwtico.fillna(method='ffill',inplace=True)\n",
    "\n",
    "# a magtitude 7.8 earthquake struck Ecuador on April 16,2016. Remove the data of a month from April 16,2016\n",
    "df=df[(df['date']<'2016-04-16') | (df['date']>'2016-05-16')]\n",
    "\n",
    "# drop some features with zero variance or near-zero variance\n",
    "df=df.drop(['date','city','state','type','cluster'],axis=1)"
   ]
  },
  {
   "cell_type": "code",
   "execution_count": 3,
   "metadata": {
    "collapsed": true
   },
   "outputs": [],
   "source": [
    "# choose one items for trainning\n",
    "df=df[df['item_nbr']==103665]\n",
    "df.month=df.month.astype('category')\n",
    "df.dayofweek=df.dayofweek.astype('category')\n",
    "Categories=df[['month','dayofweek']]\n",
    "dummies=pd.get_dummies(Categories,drop_first=True)\n",
    "df=df.drop(['item_nbr','month','dayofweek'],axis=1)\n",
    "df=pd.concat([df,dummies],axis=1)\n",
    "targets=df.unit_sales\n",
    "features=df.drop('unit_sales',axis=1)\n",
    "X_train, X_test, y_train, y_test = train_test_split(features, targets, test_size=0.1, random_state=42)"
   ]
  },
  {
   "cell_type": "code",
   "execution_count": 4,
   "metadata": {
    "collapsed": true
   },
   "outputs": [],
   "source": [
    "# Gradient Boost Algorithm\n",
    "params = {'max_depth':3,\n",
    "'min_child_weight':10,\n",
    "'learning_rate':0.3,\n",
    "'subsample':0.5,\n",
    "'colsample_bytree':0.6,\n",
    "'obj':'reg:linear',\n",
    "'n_estimators':1000,\n",
    "'eta':0.3}\n",
    "\n",
    "dtrain=xgb.DMatrix(X_train.values,\n",
    "                     y_train.values,\n",
    "                     feature_names=X_train.columns.values)\n",
    "clf=xgb.train(params, dtrain)\n",
    "dtest=xgb.DMatrix(X_test.values,\n",
    "                     y_test.values,\n",
    "                     feature_names=X_test.columns.values)\n",
    "predicted_xgb=np.around(clf.predict(dtest))\n",
    "\n",
    "# Random forest Regression\n",
    "model=RandomForestRegressor(max_depth=2, random_state=0, n_jobs=-1)\n",
    "model.fit(X_train,y_train)\n",
    "predicted_rf=np.around(model.predict(X_test))\n",
    "\n",
    "# Support vector Machine\n",
    "clf = SVR(C=1.0, epsilon=0.2)\n",
    "clf.fit(X_train,y_train)\n",
    "predicted_svm=np.around(clf.predict(X_test))"
   ]
  },
  {
   "cell_type": "code",
   "execution_count": 7,
   "metadata": {
    "collapsed": true
   },
   "outputs": [],
   "source": [
    "# compare these three models with the criterion of  square errors\n",
    "actual=y_test.values\n",
    "\n",
    "error_svm=predicted_svm-actual\n",
    "np.sum(error_svm**2)\n",
    "\n",
    "error_rf=predicted_rf-actual\n",
    "np.sum(error_rf**2)\n",
    "\n",
    "# the results shows the xgb has the best performance\n",
    "error_xgb=predicted_xgb-actual\n",
    "np.sum(error_xgb**2)"
   ]
  },
  {
   "cell_type": "code",
   "execution_count": null,
   "metadata": {
    "collapsed": true
   },
   "outputs": [],
   "source": [
    "# Model evaluation and tuning\n"
   ]
  }
 ],
 "metadata": {
  "kernelspec": {
   "display_name": "Python 3",
   "language": "python",
   "name": "python3"
  },
  "language_info": {
   "codemirror_mode": {
    "name": "ipython",
    "version": 3
   },
   "file_extension": ".py",
   "mimetype": "text/x-python",
   "name": "python",
   "nbconvert_exporter": "python",
   "pygments_lexer": "ipython3",
   "version": "3.6.1"
  }
 },
 "nbformat": 4,
 "nbformat_minor": 2
}
