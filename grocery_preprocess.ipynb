{
 "cells": [
  {
   "cell_type": "markdown",
   "metadata": {},
   "source": [
    "# Corporación Favorita Grocery Sales Forecasting\n",
    "\n",
    "Authors: shiying Chen, Jianjun Du,  Bo Huang, Yanyan Zhu, \n",
    "\n",
    "Features: big data, 120 million records; time series; regressions; clusering\n",
    "\n",
    "Part I: data preprocess, descriptive data analysis, feature engineering\n",
    "\n",
    "Part II: model selection, tuning, and evaluation"
   ]
  },
  {
   "cell_type": "markdown",
   "metadata": {},
   "source": [
    "## part I: data preprocess, descriptive data analysis, feature engineer"
   ]
  },
  {
   "cell_type": "markdown",
   "metadata": {},
   "source": [
    "### 1.1 data input and preprocess"
   ]
  },
  {
   "cell_type": "code",
   "execution_count": null,
   "metadata": {
    "collapsed": true
   },
   "outputs": [],
   "source": [
    "#  Corporación Favorita Grocery Sales Forecasting\n",
    "import numpy as np\n",
    "import pandas as pd\n",
    "import matplotlib.pyplot as plt\n",
    "import random"
   ]
  },
  {
   "cell_type": "code",
   "execution_count": null,
   "metadata": {},
   "outputs": [],
   "source": [
    "# read in data, and made some modification to make them smaller\n",
    "# reference: https://www.kaggle.com/heyt0ny/read-data-for-low-memory-usage\n",
    "def loaddata(filename):\n",
    "    types = {'id': 'int64',\n",
    "             'item_nbr': 'int32',\n",
    "             'store_nbr': 'int16',\n",
    "             'unit_sales': 'float32',\n",
    "             'onpromotion': bool,\n",
    "    }\n",
    "    data = pd.read_csv(filename, dtype=types)\n",
    "    data['onpromotion'].fillna(False, inplace = True)\n",
    "    data['onpromotion'] = data['onpromotion'].map({False : 0, True : 1})\n",
    "    data['onpromotion'] = data['onpromotion'].astype('int8')\n",
    "    return data\n",
    "\n",
    "train=loaddata(\"train.csv\")"
   ]
  },
  {
   "cell_type": "code",
   "execution_count": null,
   "metadata": {
    "collapsed": true
   },
   "outputs": [],
   "source": [
    "# detach the date column to year (2013, 2014,..), day of the week(monday,tuesday,..), month(january, February, et..)\n",
    "DateIndex=pd.DatetimeIndex(train['date'])\n",
    "train['year']=DateIndex.year\n",
    "train['month']=DateIndex.month\n",
    "train['dayofweek']=DateIndex.weekday"
   ]
  },
  {
   "cell_type": "code",
   "execution_count": null,
   "metadata": {
    "collapsed": true
   },
   "outputs": [],
   "source": [
    "stores=pd.read_csv(\"stores.csv\")\n",
    "holidays=pd.read_csv(\"holidays_events.csv\")\n",
    "items=pd.read_csv(\"items.csv\")\n",
    "oilprice=pd.read_csv(\"oil.csv\")\n",
    "transactions=pd.read_csv(\"transactions.csv\")"
   ]
  },
  {
   "cell_type": "markdown",
   "metadata": {},
   "source": [
    "### 1.2 descriptive data analysis"
   ]
  },
  {
   "cell_type": "code",
   "execution_count": null,
   "metadata": {},
   "outputs": [],
   "source": [
    "# How many items are sold by the company?\n",
    "train.item_nbr.nunique()\n"
   ]
  },
  {
   "cell_type": "code",
   "execution_count": null,
   "metadata": {},
   "outputs": [],
   "source": [
    "# How many stores owned by the company?\n",
    "train.store_nbr.nunique()"
   ]
  },
  {
   "cell_type": "code",
   "execution_count": null,
   "metadata": {},
   "outputs": [],
   "source": [
    "# Is there any difference for each day of week?\n",
    "grouped=train[['dayofweek','unit_sales']].groupby('dayofweek')\n",
    "sales=grouped.sum()\n",
    "plt.plot(sales)\n",
    "plt.title(\"unit sales for each day of a week\")\n",
    "plt.xlabel(\"day of week, 0 is Sunday, 6 is Saturda\")\n",
    "plt.ylabel(\"Sum of unit sales by week day\")\n",
    "plt.show()\n",
    "\n",
    "# The figure shows that Friday and Saturday have the biggest sales, and Wednesday has the smmallest sales"
   ]
  },
  {
   "cell_type": "code",
   "execution_count": null,
   "metadata": {},
   "outputs": [],
   "source": [
    "# Is there any difference for each month?\n",
    "grouped=train[['month','unit_sales']].groupby('month')\n",
    "sales=grouped.sum()\n",
    "plt.plot(sales)\n",
    "plt.title(\"unit sales for each month\")\n",
    "plt.xlabel(\"Month\")\n",
    "plt.ylabel(\"Sum of unit sales by month\")\n",
    "plt.show()\n",
    "\n",
    "# July has the biggest sale"
   ]
  },
  {
   "cell_type": "code",
   "execution_count": null,
   "metadata": {},
   "outputs": [],
   "source": [
    "# Is there any difference for each year?\n",
    "grouped=train[['year','unit_sales']].groupby('year')\n",
    "sales=grouped.sum()\n",
    "plt.plot(sales)\n",
    "plt.title(\"unit sales from 2013 to 2017\")\n",
    "plt.xlabel(\"year\")\n",
    "plt.ylabel(\"Sum of unit sales by year\")\n",
    "plt.show()\n",
    "\n",
    "# The sales is decreasing from 2016 to 2017, that is because the data only cover part of 2017."
   ]
  },
  {
   "cell_type": "code",
   "execution_count": null,
   "metadata": {},
   "outputs": [],
   "source": [
    "# What are the sales per stores?\n",
    "# What are the locations of the top 10 stores\n",
    "grouped=train[['store_nbr','unit_sales']].groupby('store_nbr')\n",
    "sales=grouped.sum().sort_values('unit_sales',ascending=False)\n",
    "sales['store_nbr']=sales.index\n",
    "pd.merge(sales,stores,on='store_nbr').head(10)\n",
    "\n",
    "# Quito, Pichincha is the major market for the company"
   ]
  },
  {
   "cell_type": "code",
   "execution_count": null,
   "metadata": {},
   "outputs": [],
   "source": [
    "# What are the top sold items?\n",
    "grouped=train[['item_nbr','unit_sales']].groupby('item_nbr')\n",
    "sales=grouped.sum().sort_values('unit_sales',ascending=False)\n",
    "sales['item_nbr']=sales.index\n",
    "sales.head(10)"
   ]
  },
  {
   "cell_type": "code",
   "execution_count": null,
   "metadata": {
    "collapsed": true
   },
   "outputs": [],
   "source": [
    "for i in range(55):\n",
    "    data=train[train.store_nbr==i]\n",
    "    path=\"store_\"+str(i)+\".csv\"\n",
    "    data.to_csv(path)"
   ]
  }
 ],
 "metadata": {
  "kernelspec": {
   "display_name": "Python 3",
   "language": "python",
   "name": "python3"
  },
  "language_info": {
   "codemirror_mode": {
    "name": "ipython",
    "version": 3
   },
   "file_extension": ".py",
   "mimetype": "text/x-python",
   "name": "python",
   "nbconvert_exporter": "python",
   "pygments_lexer": "ipython3",
   "version": "3.6.1"
  }
 },
 "nbformat": 4,
 "nbformat_minor": 2
}
