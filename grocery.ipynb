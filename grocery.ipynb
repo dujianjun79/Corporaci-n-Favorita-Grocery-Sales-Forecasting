{
 "cells": [
  {
   "cell_type": "markdown",
   "metadata": {},
   "source": [
    "# Corporación Favorita Grocery Sales Forecasting\n",
    "\n",
    "Authors: shiying Chen, Yanyan Zhu, Bo Huang, Jianjun Du \n",
    "\n",
    "Features: big data, 120 million records; time series; regressions; clusering\n",
    "\n",
    "Part I: data preprocess, descriptive data analysis, feature engineering\n",
    "\n",
    "Part II: model selection, tuning, and evaluation"
   ]
  },
  {
   "cell_type": "code",
   "execution_count": 1,
   "metadata": {
    "collapsed": true
   },
   "outputs": [],
   "source": [
    "#  Corporación Favorita Grocery Sales Forecasting\n",
    "import numpy as np\n",
    "import pandas as pd\n",
    "import matplotlib.pyplot as plt"
   ]
  },
  {
   "cell_type": "code",
   "execution_count": 2,
   "metadata": {},
   "outputs": [
    {
     "name": "stderr",
     "output_type": "stream",
     "text": [
      "C:\\Users\\Daniel\\Anaconda3\\lib\\site-packages\\IPython\\core\\interactiveshell.py:2717: DtypeWarning: Columns (5) have mixed types. Specify dtype option on import or set low_memory=False.\n",
      "  interactivity=interactivity, compiler=compiler, result=result)\n"
     ]
    }
   ],
   "source": [
    "# read in the raw data\n",
    "train=pd.read_csv(\"train.csv\")"
   ]
  },
  {
   "cell_type": "code",
   "execution_count": 4,
   "metadata": {
    "collapsed": true
   },
   "outputs": [],
   "source": [
    "# detach the date column to year (2013, 2014,..), day of the week(monday,tuesday,..), month(january, February, et..)\n",
    "DateIndex=pd.DatetimeIndex(train['date'])\n",
    "train['year']=DateIndex.year\n",
    "train['month']=DateIndex.month\n",
    "train['dayofweek']=DateIndex.weekday"
   ]
  },
  {
   "cell_type": "code",
   "execution_count": 5,
   "metadata": {
    "collapsed": true
   },
   "outputs": [],
   "source": [
    "# detach the date column to the days from the beginning of the day, which was 2013-1-1\n",
    "days=(train['date']-train['date'].min()).astype('timedelta64[D]')"
   ]
  },
  {
   "cell_type": "code",
   "execution_count": 6,
   "metadata": {
    "collapsed": true
   },
   "outputs": [],
   "source": [
    "# There are more than 120 million records, randomly choose a part of it\n",
    "row=random.sample(range(train.shape[0]),5000000)\n",
    "data=train.iloc[row,:]\n",
    "data.to_csv(\"traindata.csv\",index=False)\n",
    "# load the other files\n",
    "data=pd.read_csv(\"traindata.csv\")\n",
    "stores=pd.read_csv(\"stores.csv\")\n",
    "holidays=pd.read_csv(\"holidays_events.csv\")\n",
    "items=pd.read_csv(\"items.csv\")\n",
    "oilprice=pd.read_csv(\"oil.csv\")\n",
    "transactions=pd.read_csv(\"transactions.csv\")"
   ]
  },
  {
   "cell_type": "code",
   "execution_count": 7,
   "metadata": {
    "collapsed": true
   },
   "outputs": [],
   "source": [
    "# polynomial fit of oil price trending with days\n",
    "tmp1=pd.DatetimeIndex(oilprice['date'])\n",
    "tmp2=tmp1-tmp1.min()\n",
    "oilprice['days']=tmp2.astype('timedelta64[D]')\n",
    "oilprice.dropna(inplace=True)\n",
    "model=np.polyfit(oilprice['dcoilwtico'].values,oilprice['days'].values,3)"
   ]
  },
  {
   "cell_type": "code",
   "execution_count": null,
   "metadata": {
    "collapsed": true
   },
   "outputs": [],
   "source": []
  }
 ],
 "metadata": {
  "kernelspec": {
   "display_name": "Python 3",
   "language": "python",
   "name": "python3"
  },
  "language_info": {
   "codemirror_mode": {
    "name": "ipython",
    "version": 3
   },
   "file_extension": ".py",
   "mimetype": "text/x-python",
   "name": "python",
   "nbconvert_exporter": "python",
   "pygments_lexer": "ipython3",
   "version": "3.6.1"
  }
 },
 "nbformat": 4,
 "nbformat_minor": 2
}
