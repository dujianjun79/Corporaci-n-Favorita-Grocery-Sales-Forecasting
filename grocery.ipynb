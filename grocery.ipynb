{
 "cells": [
  {
   "cell_type": "markdown",
   "metadata": {},
   "source": [
    "# Corporación Favorita Grocery Sales Forecasting\n",
    "\n",
    "Authors: shiying Chen, Jianjun Du,  Bo Huang, Yanyan Zhu, \n",
    "\n",
    "Features: big data, 120 million records; time series; regressions; clusering\n",
    "\n",
    "Part I: data preprocess, descriptive data analysis, feature engineering\n",
    "\n",
    "Part II: model selection, tuning, and evaluation"
   ]
  },
  {
   "cell_type": "markdown",
   "metadata": {},
   "source": [
    "## part I: data preprocess, descriptive data analysis, feature engineer"
   ]
  },
  {
   "cell_type": "markdown",
   "metadata": {},
   "source": [
    "### 1.1 data input and preprocess"
   ]
  },
  {
   "cell_type": "code",
   "execution_count": 1,
   "metadata": {
    "collapsed": true
   },
   "outputs": [],
   "source": [
    "#  Corporación Favorita Grocery Sales Forecasting\n",
    "import numpy as np\n",
    "import pandas as pd\n",
    "import matplotlib.pyplot as plt\n",
    "import random"
   ]
  },
  {
   "cell_type": "code",
   "execution_count": 2,
   "metadata": {
    "collapsed": true
   },
   "outputs": [],
   "source": [
    "# read in data, and made some modification to make them smaller\n",
    "# reference: https://www.kaggle.com/heyt0ny/read-data-for-low-memory-usage\n",
    "def loaddata(filename):\n",
    "    types = {'id': 'int64',\n",
    "             'item_nbr': 'int32',\n",
    "             'store_nbr': 'int16',\n",
    "             'unit_sales': 'float32',\n",
    "             'onpromotion': bool,\n",
    "    }\n",
    "    data = pd.read_csv(filename, dtype=types)\n",
    "    data['onpromotion'].fillna(False, inplace = True)\n",
    "    data['onpromotion'] = data['onpromotion'].map({False : 0, True : 1})\n",
    "    data['onpromotion'] = data['onpromotion'].astype('int8')\n",
    "    return data\n",
    "\n",
    "train=loaddata(\"train.csv\")"
   ]
  },
  {
   "cell_type": "code",
   "execution_count": 16,
   "metadata": {
    "collapsed": true
   },
   "outputs": [],
   "source": [
    "# detach the date column to year (2013, 2014,..), day of the week(monday,tuesday,..), month(january, February, et..)\n",
    "DateIndex=pd.DatetimeIndex(train['date'])\n",
    "train['year']=DateIndex.year\n",
    "train['month']=DateIndex.month\n",
    "train['dayofweek']=DateIndex.weekday"
   ]
  },
  {
   "cell_type": "code",
   "execution_count": 6,
   "metadata": {
    "collapsed": true
   },
   "outputs": [],
   "source": [
    "stores=pd.read_csv(\"stores.csv\")\n",
    "holidays=pd.read_csv(\"holidays_events.csv\")\n",
    "items=pd.read_csv(\"items.csv\")\n",
    "oilprice=pd.read_csv(\"oil.csv\")\n",
    "transactions=pd.read_csv(\"transactions.csv\")"
   ]
  },
  {
   "cell_type": "markdown",
   "metadata": {},
   "source": [
    "### 1.2 descriptive data analysis"
   ]
  },
  {
   "cell_type": "code",
   "execution_count": 26,
   "metadata": {},
   "outputs": [
    {
     "data": {
      "text/plain": [
       "4036"
      ]
     },
     "execution_count": 26,
     "metadata": {},
     "output_type": "execute_result"
    }
   ],
   "source": [
    "# How many items are sold by the company?\n",
    "train.item_nbr.nunique()\n"
   ]
  },
  {
   "cell_type": "code",
   "execution_count": 25,
   "metadata": {},
   "outputs": [
    {
     "data": {
      "text/plain": [
       "54"
      ]
     },
     "execution_count": 25,
     "metadata": {},
     "output_type": "execute_result"
    }
   ],
   "source": [
    "# How many stores owned by the company?\n",
    "train.store_nbr.nunique()"
   ]
  },
  {
   "cell_type": "code",
   "execution_count": null,
   "metadata": {
    "collapsed": true
   },
   "outputs": [],
   "source": []
  },
  {
   "cell_type": "markdown",
   "metadata": {},
   "source": [
    "### 1.3 feature selection and engineering"
   ]
  },
  {
   "cell_type": "code",
   "execution_count": null,
   "metadata": {
    "collapsed": true
   },
   "outputs": [],
   "source": [
    "# There are more than 120 million records, only one year data will be used, because it is too big for a 32G RAM computer\n",
    "data=train.iloc[-37500000:,:]\n",
    "data.to_csv(\"traindata.csv\",index=False)\n",
    "# load the other files\n",
    "data=pd.read_csv(\"traindata.csv\")"
   ]
  },
  {
   "cell_type": "code",
   "execution_count": 7,
   "metadata": {},
   "outputs": [
    {
     "data": {
      "image/png": "[encoded data removed]",
      "text/plain": [
       "<matplotlib.figure.Figure at 0x1723aa4e80>"
      ]
     },
     "metadata": {},
     "output_type": "display_data"
    }
   ],
   "source": [
    "# polynomial fit of oil price trending with days\n",
    "tmp1=pd.DatetimeIndex(oilprice['date'])\n",
    "tmp2=tmp1-tmp1.min()\n",
    "oilprice['days']=tmp2.astype('timedelta64[D]')\n",
    "oilprice.dropna(inplace=True)\n",
    "model=np.polyfit(oilprice['days'].values,oilprice['dcoilwtico'].values,3)\n",
    "fit=np.poly1d(model)\n",
    "oilprice['predicted_price']=oilprice['days'].apply(lambda x: fit(x))\n",
    "plt.plot(oilprice['days'],oilprice['predicted_price'],'r--',oilprice['days'],oilprice['dcoilwtico'],'g--')\n",
    "plt.show()\n"
   ]
  },
  {
   "cell_type": "code",
   "execution_count": 8,
   "metadata": {
    "collapsed": true
   },
   "outputs": [],
   "source": [
    "# detach the date column to the days from the beginning of the day, which was 2013-1-1\n",
    "data['days']=(DateIndex-DateIndex.min()).astype('timedelta64[D]')\n",
    "\n",
    "# fit the oil price model to the whole dataset\n",
    "data['oilprice']=data['days'].apply(lambda x: fit(x))"
   ]
  },
  {
   "cell_type": "code",
   "execution_count": 7,
   "metadata": {
    "collapsed": true
   },
   "outputs": [],
   "source": []
  },
  {
   "cell_type": "code",
   "execution_count": null,
   "metadata": {
    "collapsed": true
   },
   "outputs": [],
   "source": []
  }
 ],
 "metadata": {
  "kernelspec": {
   "display_name": "Python 3",
   "language": "python",
   "name": "python3"
  },
  "language_info": {
   "codemirror_mode": {
    "name": "ipython",
    "version": 3
   },
   "file_extension": ".py",
   "mimetype": "text/x-python",
   "name": "python",
   "nbconvert_exporter": "python",
   "pygments_lexer": "ipython3",
   "version": "3.6.1"
  }
 },
 "nbformat": 4,
 "nbformat_minor": 2
}
